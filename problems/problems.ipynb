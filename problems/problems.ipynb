{
 "cells": [
  {
   "cell_type": "markdown",
   "id": "f33ced96-994e-4fd0-829f-8756733b0deb",
   "metadata": {},
   "source": [
    "## Maximum Subarray Problem\n",
    "\n",
    "### Problem: Given an integer array nums, find the subarray with the largest sum, and return its sum.\n",
    "\n",
    "### Solution: We can use Kadane's algorithm tosolve this problem. It's a dynamic programming approach where we keep track of the maximum sum subarray ending at each position in the array. If the maximum sum of subarray ending at the current_index-1 is negative, we should start a new subarray with the current element. Otherwise, we should extend the maximum sum subarray ending at current_index-1. The overall maximum sum subarray will be the maximum among all the maximum sum subarrays ending at each index. The time complexity of this algorithm is O(n), where n is the number of elements in the nums array."
   ]
  },
  {
   "cell_type": "code",
   "execution_count": 3,
   "id": "0cc0bd9e-cb4d-4f89-b271-a48e8d35e160",
   "metadata": {
    "tags": []
   },
   "outputs": [],
   "source": [
    "from typing import List\n",
    "class Solution(object):\n",
    "    def maxSubarray(self, nums: List[int]) -> int:\n",
    "        \n",
    "        # tracking the total max sum \n",
    "        total_max = nums[0]\n",
    "        \n",
    "        # tracking the current max sum\n",
    "        curr_max = nums[0]\n",
    "        \n",
    "        # looping throy=ugh the list\n",
    "        for i in range(1,len(nums)):\n",
    "            # implementing the kadanes algorithm\n",
    "            if curr_max < 0:\n",
    "                curr_max = nums[i]\n",
    "            else:\n",
    "                curr_max += nums[i]\n",
    "            total_max = max(total_max, curr_max)\n",
    "        return total_max"
   ]
  },
  {
   "cell_type": "code",
   "execution_count": 4,
   "id": "b1934c00-9b9c-4f9a-ae6a-8311ff10949e",
   "metadata": {
    "tags": []
   },
   "outputs": [
    {
     "data": {
      "text/plain": [
       "6"
      ]
     },
     "execution_count": 4,
     "metadata": {},
     "output_type": "execute_result"
    }
   ],
   "source": [
    "sol = Solution()\n",
    "nums = [-2, 1, -3, 4, -1, 2, 1, -5, 4]\n",
    "\n",
    "sol.maxSubarray(nums)"
   ]
  }
 ],
 "metadata": {
  "kernelspec": {
   "display_name": "Python 3 (ipykernel)",
   "language": "python",
   "name": "python3"
  },
  "language_info": {
   "codemirror_mode": {
    "name": "ipython",
    "version": 3
   },
   "file_extension": ".py",
   "mimetype": "text/x-python",
   "name": "python",
   "nbconvert_exporter": "python",
   "pygments_lexer": "ipython3",
   "version": "3.11.5"
  }
 },
 "nbformat": 4,
 "nbformat_minor": 5
}
