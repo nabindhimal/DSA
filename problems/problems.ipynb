{
 "cells": [
  {
   "cell_type": "markdown",
   "id": "f33ced96-994e-4fd0-829f-8756733b0deb",
   "metadata": {},
   "source": [
    "## Maximum Subarray Problem\n",
    "\n",
    "### Problem: Given an integer array nums, find the subarray with the largest sum, and return its sum.\n",
    "\n",
    "### Solution: We can use Kadane's algorithm to solve this problem. It's a dynamic programming approach where we keep track of the maximum sum subarray ending at each position in the array. If the maximum sum of subarray ending at the current_index-1 is negative, we should start a new subarray with the current element. Otherwise, we should extend the maximum sum subarray ending at current_index-1. The overall maximum sum subarray will be the maximum among all the maximum sum subarrays ending at each index. The time complexity of this algorithm is O(n), where n is the number of elements in the nums array."
   ]
  },
  {
   "cell_type": "code",
   "execution_count": 3,
   "id": "0cc0bd9e-cb4d-4f89-b271-a48e8d35e160",
   "metadata": {
    "tags": []
   },
   "outputs": [],
   "source": [
    "from typing import List\n",
    "class Solution(object):\n",
    "    def maxSubarray(self, nums: List[int]) -> int:\n",
    "        \n",
    "        # tracking the total max sum \n",
    "        total_max = nums[0]\n",
    "        \n",
    "        # tracking the current max sum\n",
    "        curr_max = nums[0]\n",
    "        \n",
    "        # looping throy=ugh the list\n",
    "        for i in range(1,len(nums)):\n",
    "            # implementing the kadanes algorithm\n",
    "            if curr_max < 0:\n",
    "                curr_max = nums[i]\n",
    "            else:\n",
    "                curr_max += nums[i]\n",
    "            total_max = max(total_max, curr_max)\n",
    "        return total_max"
   ]
  },
  {
   "cell_type": "code",
   "execution_count": 4,
   "id": "b1934c00-9b9c-4f9a-ae6a-8311ff10949e",
   "metadata": {
    "tags": []
   },
   "outputs": [
    {
     "data": {
      "text/plain": [
       "6"
      ]
     },
     "execution_count": 4,
     "metadata": {},
     "output_type": "execute_result"
    }
   ],
   "source": [
    "sol = Solution()\n",
    "nums = [-2, 1, -3, 4, -1, 2, 1, -5, 4]\n",
    "\n",
    "sol.maxSubarray(nums)"
   ]
  },
  {
   "cell_type": "markdown",
   "id": "fa7fdd33-328c-44d6-a4b9-206c7fd76f55",
   "metadata": {},
   "source": [
    "## Contains Duplicate\n",
    "\n",
    "### Problem: Given an integer array nums, return true if any value appears at least twice in the array, and return false if every element is distinct.\n",
    "\n",
    "### Solution: We can use a set data structure to keep track of the unique elements encountered while iterating through the array. If we encounter an element that is already present in the set, it means that the array contains a duplicate, and we can return True. If we complete the iteration without finding any duplicates, we can return False. The time complexity of the given code is O(n), where n is the number of elements in the input list nums. "
   ]
  },
  {
   "cell_type": "code",
   "execution_count": 10,
   "id": "c1a44c69-55e8-481c-914e-18ff035c49bf",
   "metadata": {
    "tags": []
   },
   "outputs": [],
   "source": [
    "class Solution(object):\n",
    "    def containsDuplicate(self, nums: List[int]) -> bool:\n",
    "        # initializing the set\n",
    "        unique_set = set()\n",
    "        \n",
    "        for i in nums:\n",
    "            # if current element is in set return True \n",
    "            if i in unique_set:\n",
    "                return True\n",
    "            # if not add the element to the set\n",
    "            else:\n",
    "                unique_set.add(i)\n",
    "        # return False if no duplicates found\n",
    "        return False"
   ]
  },
  {
   "cell_type": "code",
   "execution_count": 11,
   "id": "dc33f2ab-6440-408f-9994-777f3e210f22",
   "metadata": {
    "tags": []
   },
   "outputs": [
    {
     "data": {
      "text/plain": [
       "False"
      ]
     },
     "execution_count": 11,
     "metadata": {},
     "output_type": "execute_result"
    }
   ],
   "source": [
    "sol = Solution()\n",
    "\n",
    "nums = [1,23,5,6,7,8,9]\n",
    "sol.containsDuplicate(nums)"
   ]
  },
  {
   "cell_type": "code",
   "execution_count": 1,
   "id": "b6d4b0e3-3197-4a31-8a2e-6b4b98032a43",
   "metadata": {},
   "outputs": [],
   "source": [
    "\n",
    "# Maximul Product SUbarray"
   ]
  },
  {
   "cell_type": "code",
   "execution_count": 10,
   "id": "c5dcf036-ca5d-41eb-bef2-27284bbc7574",
   "metadata": {
    "tags": []
   },
   "outputs": [],
   "source": [
    "\n",
    "def maxProduct(nums: List[int]) -> int:\n",
    "    \n",
    "    max_prod = nums[0]\n",
    "    min_prod = nums[0]\n",
    "    \n",
    "    result = nums[0]\n",
    "    \n",
    "    for i in range(1, len(nums)):\n",
    "        temp_max = max(nums[i], max_prod * nums[i], min_prod * nums[i])\n",
    "        temp_min = min(nums[i], max_prod * nums[i], min_prod * nums[i])\n",
    "        \n",
    "        max_prod = temp_max\n",
    "        min_prod = temp_min\n",
    "        \n",
    "        result = max(result, max_prod)\n",
    "        \n",
    "    return result"
   ]
  },
  {
   "cell_type": "code",
   "execution_count": 11,
   "id": "c8b02bf7-1e43-4c96-975c-7184e75d75f2",
   "metadata": {
    "tags": []
   },
   "outputs": [
    {
     "data": {
      "text/plain": [
       "6"
      ]
     },
     "execution_count": 11,
     "metadata": {},
     "output_type": "execute_result"
    }
   ],
   "source": [
    "nums = [2,3,-2,4]\n",
    "\n",
    "maxProduct(nums)"
   ]
  }
 ],
 "metadata": {
  "kernelspec": {
   "display_name": "Python 3 (ipykernel)",
   "language": "python",
   "name": "python3"
  },
  "language_info": {
   "codemirror_mode": {
    "name": "ipython",
    "version": 3
   },
   "file_extension": ".py",
   "mimetype": "text/x-python",
   "name": "python",
   "nbconvert_exporter": "python",
   "pygments_lexer": "ipython3",
   "version": "3.11.5"
  }
 },
 "nbformat": 4,
 "nbformat_minor": 5
}
